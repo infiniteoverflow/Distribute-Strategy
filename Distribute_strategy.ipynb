{
  "nbformat": 4,
  "nbformat_minor": 0,
  "metadata": {
    "colab": {
      "name": "Distribute strategy.ipynb",
      "provenance": [],
      "collapsed_sections": [],
      "authorship_tag": "ABX9TyO1lAa3qXRHPsZg+VCvJxqs",
      "include_colab_link": true
    },
    "kernelspec": {
      "name": "python3",
      "display_name": "Python 3"
    },
    "accelerator": "GPU"
  },
  "cells": [
    {
      "cell_type": "markdown",
      "metadata": {
        "id": "view-in-github",
        "colab_type": "text"
      },
      "source": [
        "<a href=\"https://colab.research.google.com/github/infiniteoverflow/Distribute-Strategy/blob/master/Distribute_strategy.ipynb\" target=\"_parent\"><img src=\"https://colab.research.google.com/assets/colab-badge.svg\" alt=\"Open In Colab\"/></a>"
      ]
    },
    {
      "cell_type": "markdown",
      "metadata": {
        "id": "OGMqOKHjquEK",
        "colab_type": "text"
      },
      "source": [
        "**We install tensorflow with gpu support**"
      ]
    },
    {
      "cell_type": "code",
      "metadata": {
        "id": "vB0fcSP2qnCc",
        "colab_type": "code",
        "colab": {
          "base_uri": "https://localhost:8080/",
          "height": 748
        },
        "outputId": "95b4d059-ebaf-4766-bcf7-805b7e8584ea"
      },
      "source": [
        "pip install tensorflow-gpu"
      ],
      "execution_count": 1,
      "outputs": [
        {
          "output_type": "stream",
          "text": [
            "Collecting tensorflow-gpu\n",
            "\u001b[?25l  Downloading https://files.pythonhosted.org/packages/0f/11/763f55d3d15efd778ef24453f126e6c33635680e5a2bb346da3fab5997cb/tensorflow_gpu-2.3.0-cp36-cp36m-manylinux2010_x86_64.whl (320.4MB)\n",
            "\u001b[K     |████████████████████████████████| 320.4MB 46kB/s \n",
            "\u001b[?25hRequirement already satisfied: gast==0.3.3 in /usr/local/lib/python3.6/dist-packages (from tensorflow-gpu) (0.3.3)\n",
            "Requirement already satisfied: six>=1.12.0 in /usr/local/lib/python3.6/dist-packages (from tensorflow-gpu) (1.15.0)\n",
            "Requirement already satisfied: h5py<2.11.0,>=2.10.0 in /usr/local/lib/python3.6/dist-packages (from tensorflow-gpu) (2.10.0)\n",
            "Requirement already satisfied: google-pasta>=0.1.8 in /usr/local/lib/python3.6/dist-packages (from tensorflow-gpu) (0.2.0)\n",
            "Requirement already satisfied: keras-preprocessing<1.2,>=1.1.1 in /usr/local/lib/python3.6/dist-packages (from tensorflow-gpu) (1.1.2)\n",
            "Requirement already satisfied: wheel>=0.26 in /usr/local/lib/python3.6/dist-packages (from tensorflow-gpu) (0.34.2)\n",
            "Requirement already satisfied: tensorflow-estimator<2.4.0,>=2.3.0 in /usr/local/lib/python3.6/dist-packages (from tensorflow-gpu) (2.3.0)\n",
            "Requirement already satisfied: tensorboard<3,>=2.3.0 in /usr/local/lib/python3.6/dist-packages (from tensorflow-gpu) (2.3.0)\n",
            "Requirement already satisfied: termcolor>=1.1.0 in /usr/local/lib/python3.6/dist-packages (from tensorflow-gpu) (1.1.0)\n",
            "Requirement already satisfied: grpcio>=1.8.6 in /usr/local/lib/python3.6/dist-packages (from tensorflow-gpu) (1.31.0)\n",
            "Requirement already satisfied: wrapt>=1.11.1 in /usr/local/lib/python3.6/dist-packages (from tensorflow-gpu) (1.12.1)\n",
            "Requirement already satisfied: protobuf>=3.9.2 in /usr/local/lib/python3.6/dist-packages (from tensorflow-gpu) (3.12.4)\n",
            "Requirement already satisfied: numpy<1.19.0,>=1.16.0 in /usr/local/lib/python3.6/dist-packages (from tensorflow-gpu) (1.18.5)\n",
            "Requirement already satisfied: absl-py>=0.7.0 in /usr/local/lib/python3.6/dist-packages (from tensorflow-gpu) (0.9.0)\n",
            "Requirement already satisfied: scipy==1.4.1 in /usr/local/lib/python3.6/dist-packages (from tensorflow-gpu) (1.4.1)\n",
            "Requirement already satisfied: opt-einsum>=2.3.2 in /usr/local/lib/python3.6/dist-packages (from tensorflow-gpu) (3.3.0)\n",
            "Requirement already satisfied: astunparse==1.6.3 in /usr/local/lib/python3.6/dist-packages (from tensorflow-gpu) (1.6.3)\n",
            "Requirement already satisfied: markdown>=2.6.8 in /usr/local/lib/python3.6/dist-packages (from tensorboard<3,>=2.3.0->tensorflow-gpu) (3.2.2)\n",
            "Requirement already satisfied: google-auth-oauthlib<0.5,>=0.4.1 in /usr/local/lib/python3.6/dist-packages (from tensorboard<3,>=2.3.0->tensorflow-gpu) (0.4.1)\n",
            "Requirement already satisfied: tensorboard-plugin-wit>=1.6.0 in /usr/local/lib/python3.6/dist-packages (from tensorboard<3,>=2.3.0->tensorflow-gpu) (1.7.0)\n",
            "Requirement already satisfied: requests<3,>=2.21.0 in /usr/local/lib/python3.6/dist-packages (from tensorboard<3,>=2.3.0->tensorflow-gpu) (2.23.0)\n",
            "Requirement already satisfied: setuptools>=41.0.0 in /usr/local/lib/python3.6/dist-packages (from tensorboard<3,>=2.3.0->tensorflow-gpu) (49.2.0)\n",
            "Requirement already satisfied: werkzeug>=0.11.15 in /usr/local/lib/python3.6/dist-packages (from tensorboard<3,>=2.3.0->tensorflow-gpu) (1.0.1)\n",
            "Requirement already satisfied: google-auth<2,>=1.6.3 in /usr/local/lib/python3.6/dist-packages (from tensorboard<3,>=2.3.0->tensorflow-gpu) (1.17.2)\n",
            "Requirement already satisfied: importlib-metadata; python_version < \"3.8\" in /usr/local/lib/python3.6/dist-packages (from markdown>=2.6.8->tensorboard<3,>=2.3.0->tensorflow-gpu) (1.7.0)\n",
            "Requirement already satisfied: requests-oauthlib>=0.7.0 in /usr/local/lib/python3.6/dist-packages (from google-auth-oauthlib<0.5,>=0.4.1->tensorboard<3,>=2.3.0->tensorflow-gpu) (1.3.0)\n",
            "Requirement already satisfied: idna<3,>=2.5 in /usr/local/lib/python3.6/dist-packages (from requests<3,>=2.21.0->tensorboard<3,>=2.3.0->tensorflow-gpu) (2.10)\n",
            "Requirement already satisfied: certifi>=2017.4.17 in /usr/local/lib/python3.6/dist-packages (from requests<3,>=2.21.0->tensorboard<3,>=2.3.0->tensorflow-gpu) (2020.6.20)\n",
            "Requirement already satisfied: urllib3!=1.25.0,!=1.25.1,<1.26,>=1.21.1 in /usr/local/lib/python3.6/dist-packages (from requests<3,>=2.21.0->tensorboard<3,>=2.3.0->tensorflow-gpu) (1.24.3)\n",
            "Requirement already satisfied: chardet<4,>=3.0.2 in /usr/local/lib/python3.6/dist-packages (from requests<3,>=2.21.0->tensorboard<3,>=2.3.0->tensorflow-gpu) (3.0.4)\n",
            "Requirement already satisfied: cachetools<5.0,>=2.0.0 in /usr/local/lib/python3.6/dist-packages (from google-auth<2,>=1.6.3->tensorboard<3,>=2.3.0->tensorflow-gpu) (4.1.1)\n",
            "Requirement already satisfied: pyasn1-modules>=0.2.1 in /usr/local/lib/python3.6/dist-packages (from google-auth<2,>=1.6.3->tensorboard<3,>=2.3.0->tensorflow-gpu) (0.2.8)\n",
            "Requirement already satisfied: rsa<5,>=3.1.4; python_version >= \"3\" in /usr/local/lib/python3.6/dist-packages (from google-auth<2,>=1.6.3->tensorboard<3,>=2.3.0->tensorflow-gpu) (4.6)\n",
            "Requirement already satisfied: zipp>=0.5 in /usr/local/lib/python3.6/dist-packages (from importlib-metadata; python_version < \"3.8\"->markdown>=2.6.8->tensorboard<3,>=2.3.0->tensorflow-gpu) (3.1.0)\n",
            "Requirement already satisfied: oauthlib>=3.0.0 in /usr/local/lib/python3.6/dist-packages (from requests-oauthlib>=0.7.0->google-auth-oauthlib<0.5,>=0.4.1->tensorboard<3,>=2.3.0->tensorflow-gpu) (3.1.0)\n",
            "Requirement already satisfied: pyasn1<0.5.0,>=0.4.6 in /usr/local/lib/python3.6/dist-packages (from pyasn1-modules>=0.2.1->google-auth<2,>=1.6.3->tensorboard<3,>=2.3.0->tensorflow-gpu) (0.4.8)\n",
            "Installing collected packages: tensorflow-gpu\n",
            "Successfully installed tensorflow-gpu-2.3.0\n"
          ],
          "name": "stdout"
        }
      ]
    },
    {
      "cell_type": "code",
      "metadata": {
        "id": "3zBCG1W7q3p4",
        "colab_type": "code",
        "colab": {
          "base_uri": "https://localhost:8080/",
          "height": 35
        },
        "outputId": "67bc2fec-4760-4163-bd11-ec53d16c5828"
      },
      "source": [
        "import os\n",
        "import time\n",
        "import tensorflow as tf\n",
        "import numpy as np\n",
        "\n",
        "print(tf.version)"
      ],
      "execution_count": 2,
      "outputs": [
        {
          "output_type": "stream",
          "text": [
            "<module 'tensorflow._api.v2.version' from '/usr/local/lib/python3.6/dist-packages/tensorflow/_api/v2/version/__init__.py'>\n"
          ],
          "name": "stdout"
        }
      ]
    },
    {
      "cell_type": "code",
      "metadata": {
        "id": "p2CIrGYWrFsv",
        "colab_type": "code",
        "colab": {
          "base_uri": "https://localhost:8080/",
          "height": 35
        },
        "outputId": "a2ad78d3-983a-4215-a3c9-5a22579b0ae4"
      },
      "source": [
        "tf.test.gpu_device_name()"
      ],
      "execution_count": 3,
      "outputs": [
        {
          "output_type": "execute_result",
          "data": {
            "application/vnd.google.colaboratory.intrinsic+json": {
              "type": "string"
            },
            "text/plain": [
              "'/device:GPU:0'"
            ]
          },
          "metadata": {
            "tags": []
          },
          "execution_count": 3
        }
      ]
    },
    {
      "cell_type": "code",
      "metadata": {
        "id": "dyW5-b2-rOdJ",
        "colab_type": "code",
        "colab": {
          "base_uri": "https://localhost:8080/",
          "height": 35
        },
        "outputId": "f8bb014a-f5aa-4657-e92c-e5af1ef2b0c9"
      },
      "source": [
        "from tensorflow.python.client import device_lib\n",
        "\n",
        "def get_available_gpus():\n",
        "  local_device_protos = device_lib.list_local_devices()\n",
        "  return [x.name for x in local_device_protos  if x.device_type=='GPU']\n",
        "\n",
        "get_available_gpus()"
      ],
      "execution_count": 6,
      "outputs": [
        {
          "output_type": "execute_result",
          "data": {
            "text/plain": [
              "['/device:GPU:0']"
            ]
          },
          "metadata": {
            "tags": []
          },
          "execution_count": 6
        }
      ]
    },
    {
      "cell_type": "markdown",
      "metadata": {
        "id": "_qYM7h8rru-G",
        "colab_type": "text"
      },
      "source": [
        "**Importing the dataset and preprocessing it**"
      ]
    },
    {
      "cell_type": "code",
      "metadata": {
        "id": "51mkwsKZrlU5",
        "colab_type": "code",
        "colab": {}
      },
      "source": [
        "LABEL_DIMENSIONS = 10\n",
        "\n",
        "(train_images,train_labels),(test_images,test_labels) = tf.keras.datasets.fashion_mnist.load_data()\n",
        "\n",
        "TRAINING_SIZE = len(train_images)\n",
        "TEST_SIZE = len(test_images)\n",
        "\n",
        "train_images = np.asarray(train_images,dtype=np.float32) / 255\n",
        "test_images = np.asarray(test_images,dtype=np.float32) / 255\n",
        "\n",
        "train_images = train_images.reshape((TRAINING_SIZE,28,28,1))\n",
        "test_images = test_images.reshape((TEST_SIZE,28,28,1))\n",
        "\n",
        "train_labels = tf.keras.utils.to_categorical(train_labels,LABEL_DIMENSIONS)\n",
        "test_labels = tf.keras.utils.to_categorical(test_labels,LABEL_DIMENSIONS)\n",
        "\n",
        "train_labels = train_labels.astype(np.float32)\n",
        "test_labels = test_labels.astype(np.float32)"
      ],
      "execution_count": 8,
      "outputs": []
    },
    {
      "cell_type": "code",
      "metadata": {
        "id": "2mqQm22htUta",
        "colab_type": "code",
        "colab": {
          "base_uri": "https://localhost:8080/",
          "height": 52
        },
        "outputId": "43ebe4fa-a02e-4897-8d75-14f8c4e9887b"
      },
      "source": [
        "print(train_images.shape , train_labels.shape)\n",
        "print(test_images.shape , test_labels.shape)"
      ],
      "execution_count": 9,
      "outputs": [
        {
          "output_type": "stream",
          "text": [
            "(60000, 28, 28, 1) (60000, 10)\n",
            "(10000, 28, 28, 1) (10000, 10)\n"
          ],
          "name": "stdout"
        }
      ]
    },
    {
      "cell_type": "markdown",
      "metadata": {
        "id": "RhAvtC6RtnaA",
        "colab_type": "text"
      },
      "source": [
        "**Now we build a CNN model using the functional API**"
      ]
    },
    {
      "cell_type": "code",
      "metadata": {
        "id": "g-3YbKFftjo_",
        "colab_type": "code",
        "colab": {}
      },
      "source": [
        "inputs = tf.keras.Input(shape=(28,28,1))\n",
        "\n",
        "x = tf.keras.layers.Conv2D(filters=32,kernel_size=(3,3),activation='relu')\n",
        "x = x(inputs)\n",
        "\n",
        "x = tf.keras.layers.MaxPooling2D(pool_size=(2,2),strides=2)(x)\n",
        "\n",
        "x = tf.keras.layers.Conv2D(filters=64,kernel_size=(3,3),activation='relu')(x)\n",
        "\n",
        "x = tf.keras.layers.MaxPooling2D(pool_size=(2,2),strides=2)(x)\n",
        "\n",
        "x = tf.keras.layers.Conv2D(filters=256,kernel_size=(3,3),activation='relu')(x)\n",
        "\n",
        "x = tf.keras.layers.Flatten()(x)\n",
        "\n",
        "x = tf.keras.layers.Dense(64,activation='relu')(x)\n",
        "\n",
        "x = tf.keras.layers.Dropout(0.2)(x)\n",
        "\n",
        "x = tf.keras.layers.Dense(128,activation='relu')(x)\n",
        "\n",
        "predictions = tf.keras.layers.Dense(LABEL_DIMENSIONS,activation='softmax')(x)"
      ],
      "execution_count": 11,
      "outputs": []
    },
    {
      "cell_type": "code",
      "metadata": {
        "id": "_UuLcYNNu_kf",
        "colab_type": "code",
        "colab": {
          "base_uri": "https://localhost:8080/",
          "height": 537
        },
        "outputId": "4fc93188-fb6a-41df-df56-e3fa81310733"
      },
      "source": [
        "model = tf.keras.Model(inputs=inputs,outputs=predictions)\n",
        "model.summary()"
      ],
      "execution_count": 12,
      "outputs": [
        {
          "output_type": "stream",
          "text": [
            "Model: \"functional_1\"\n",
            "_________________________________________________________________\n",
            "Layer (type)                 Output Shape              Param #   \n",
            "=================================================================\n",
            "input_2 (InputLayer)         [(None, 28, 28, 1)]       0         \n",
            "_________________________________________________________________\n",
            "conv2d_3 (Conv2D)            (None, 26, 26, 32)        320       \n",
            "_________________________________________________________________\n",
            "max_pooling2d_2 (MaxPooling2 (None, 13, 13, 32)        0         \n",
            "_________________________________________________________________\n",
            "conv2d_4 (Conv2D)            (None, 11, 11, 64)        18496     \n",
            "_________________________________________________________________\n",
            "max_pooling2d_3 (MaxPooling2 (None, 5, 5, 64)          0         \n",
            "_________________________________________________________________\n",
            "conv2d_5 (Conv2D)            (None, 3, 3, 256)         147712    \n",
            "_________________________________________________________________\n",
            "flatten (Flatten)            (None, 2304)              0         \n",
            "_________________________________________________________________\n",
            "dense (Dense)                (None, 64)                147520    \n",
            "_________________________________________________________________\n",
            "dropout (Dropout)            (None, 64)                0         \n",
            "_________________________________________________________________\n",
            "dense_1 (Dense)              (None, 128)               8320      \n",
            "_________________________________________________________________\n",
            "dense_2 (Dense)              (None, 10)                1290      \n",
            "=================================================================\n",
            "Total params: 323,658\n",
            "Trainable params: 323,658\n",
            "Non-trainable params: 0\n",
            "_________________________________________________________________\n"
          ],
          "name": "stdout"
        }
      ]
    },
    {
      "cell_type": "markdown",
      "metadata": {
        "id": "rODFVVu8vTOm",
        "colab_type": "text"
      },
      "source": [
        "**Compiling the model**"
      ]
    },
    {
      "cell_type": "code",
      "metadata": {
        "id": "p2JlFqSevSm4",
        "colab_type": "code",
        "colab": {}
      },
      "source": [
        "optimizer = tf.keras.optimizers.SGD()\n",
        "model.compile(loss='categorical_crossentropy',\n",
        "              optimizer = optimizer,\n",
        "              metrics = ['accuracy'])"
      ],
      "execution_count": 13,
      "outputs": []
    },
    {
      "cell_type": "markdown",
      "metadata": {
        "id": "iqZRyIHqv3V4",
        "colab_type": "text"
      },
      "source": [
        "**Defining the strategy**"
      ]
    },
    {
      "cell_type": "code",
      "metadata": {
        "id": "7d-CfK8mwfQt",
        "colab_type": "code",
        "colab": {
          "base_uri": "https://localhost:8080/",
          "height": 69
        },
        "outputId": "7b71ac7b-7914-4d1e-c534-abc3b9cd1352"
      },
      "source": [
        "strategy = tf.distribute.MirroredStrategy()\n",
        "config = tf.estimator.RunConfig(train_distribute=strategy)"
      ],
      "execution_count": 14,
      "outputs": [
        {
          "output_type": "stream",
          "text": [
            "INFO:tensorflow:Using MirroredStrategy with devices ('/job:localhost/replica:0/task:0/device:GPU:0',)\n",
            "INFO:tensorflow:Initializing RunConfig with distribution strategies.\n",
            "INFO:tensorflow:Not using Distribute Coordinator.\n"
          ],
          "name": "stdout"
        }
      ]
    },
    {
      "cell_type": "markdown",
      "metadata": {
        "id": "s0_Qhlr1w6y3",
        "colab_type": "text"
      },
      "source": [
        "**Converting Keras to Estimator**"
      ]
    },
    {
      "cell_type": "code",
      "metadata": {
        "id": "jSYdSIwevMIN",
        "colab_type": "code",
        "colab": {
          "base_uri": "https://localhost:8080/",
          "height": 245
        },
        "outputId": "e5042a85-c6c4-43be-b740-37884b244ece"
      },
      "source": [
        "estimator = tf.keras.estimator.model_to_estimator(model,config=config)"
      ],
      "execution_count": 15,
      "outputs": [
        {
          "output_type": "stream",
          "text": [
            "WARNING:tensorflow:Using temporary folder as model directory: /tmp/tmpjktxy4sx\n",
            "INFO:tensorflow:Using the Keras model provided.\n",
            "WARNING:tensorflow:From /usr/local/lib/python3.6/dist-packages/tensorflow_estimator/python/estimator/keras.py:220: set_learning_phase (from tensorflow.python.keras.backend) is deprecated and will be removed after 2020-10-11.\n",
            "Instructions for updating:\n",
            "Simply pass a True/False value to the `training` argument of the `__call__` method of your layer or model.\n",
            "INFO:tensorflow:Using config: {'_model_dir': '/tmp/tmpjktxy4sx', '_tf_random_seed': None, '_save_summary_steps': 100, '_save_checkpoints_steps': None, '_save_checkpoints_secs': 600, '_session_config': allow_soft_placement: true\n",
            "graph_options {\n",
            "  rewrite_options {\n",
            "    meta_optimizer_iterations: ONE\n",
            "  }\n",
            "}\n",
            ", '_keep_checkpoint_max': 5, '_keep_checkpoint_every_n_hours': 10000, '_log_step_count_steps': 100, '_train_distribute': <tensorflow.python.distribute.mirrored_strategy.MirroredStrategy object at 0x7fd6b993a898>, '_device_fn': None, '_protocol': None, '_eval_distribute': None, '_experimental_distribute': None, '_experimental_max_worker_delay_secs': None, '_session_creation_timeout_secs': 7200, '_service': None, '_cluster_spec': ClusterSpec({}), '_task_type': 'worker', '_task_id': 0, '_global_id_in_cluster': 0, '_master': '', '_evaluation_master': '', '_is_chief': True, '_num_ps_replicas': 0, '_num_worker_replicas': 1, '_distribute_coordinator_mode': None}\n"
          ],
          "name": "stdout"
        }
      ]
    },
    {
      "cell_type": "markdown",
      "metadata": {
        "id": "CUKursA8zJqy",
        "colab_type": "text"
      },
      "source": [
        "**Input function for estimator**"
      ]
    },
    {
      "cell_type": "code",
      "metadata": {
        "id": "pRxUoQN6zJAm",
        "colab_type": "code",
        "colab": {}
      },
      "source": [
        "def input_func(images,labels,epochs,batch_size):\n",
        "  dataset = tf.data.Dataset.from_tensor_slices((images,labels))\n",
        "  SHUFFLE_SIZE = 5000\n",
        "\n",
        "  dataset = dataset.shuffle(SHUFFLE_SIZE).repeat(epochs).batch(batch_size)\n",
        "  dataset = dataset.prefetch(None)\n",
        "\n",
        "  return dataset"
      ],
      "execution_count": 16,
      "outputs": []
    },
    {
      "cell_type": "markdown",
      "metadata": {
        "id": "CIzTUJ7_z8gz",
        "colab_type": "text"
      },
      "source": [
        "**Training**"
      ]
    },
    {
      "cell_type": "code",
      "metadata": {
        "id": "ezqkQFHbxFwU",
        "colab_type": "code",
        "colab": {
          "base_uri": "https://localhost:8080/",
          "height": 1000
        },
        "outputId": "2bac3cc4-f18d-4639-e523-f13bc7f0c925"
      },
      "source": [
        "BATCH_SIZE = 512\n",
        "EPOCHS = 50\n",
        "\n",
        "estimator_train_result = estimator.train(\n",
        "    input_fn=lambda: input_func(train_images,train_labels,EPOCHS,BATCH_SIZE)\n",
        ")\n",
        "\n",
        "print(estimator_train_result)"
      ],
      "execution_count": 17,
      "outputs": [
        {
          "output_type": "stream",
          "text": [
            "WARNING:tensorflow:From /usr/local/lib/python3.6/dist-packages/tensorflow/python/data/ops/multi_device_iterator_ops.py:339: get_next_as_optional (from tensorflow.python.data.ops.iterator_ops) is deprecated and will be removed in a future version.\n",
            "Instructions for updating:\n",
            "Use `tf.data.Iterator.get_next_as_optional()` instead.\n",
            "INFO:tensorflow:Reduce to /replica:0/task:0/device:CPU:0 then broadcast to ('/replica:0/task:0/device:CPU:0',).\n",
            "INFO:tensorflow:Calling model_fn.\n",
            "INFO:tensorflow:Reduce to /replica:0/task:0/device:CPU:0 then broadcast to ('/replica:0/task:0/device:CPU:0',).\n",
            "INFO:tensorflow:Reduce to /replica:0/task:0/device:CPU:0 then broadcast to ('/replica:0/task:0/device:CPU:0',).\n",
            "INFO:tensorflow:Reduce to /replica:0/task:0/device:CPU:0 then broadcast to ('/replica:0/task:0/device:CPU:0',).\n",
            "INFO:tensorflow:Reduce to /replica:0/task:0/device:CPU:0 then broadcast to ('/replica:0/task:0/device:CPU:0',).\n",
            "INFO:tensorflow:Reduce to /replica:0/task:0/device:CPU:0 then broadcast to ('/replica:0/task:0/device:CPU:0',).\n",
            "INFO:tensorflow:Reduce to /replica:0/task:0/device:CPU:0 then broadcast to ('/replica:0/task:0/device:CPU:0',).\n",
            "INFO:tensorflow:Reduce to /replica:0/task:0/device:CPU:0 then broadcast to ('/replica:0/task:0/device:CPU:0',).\n",
            "INFO:tensorflow:Reduce to /replica:0/task:0/device:CPU:0 then broadcast to ('/replica:0/task:0/device:CPU:0',).\n",
            "INFO:tensorflow:Reduce to /replica:0/task:0/device:CPU:0 then broadcast to ('/replica:0/task:0/device:CPU:0',).\n",
            "INFO:tensorflow:Done calling model_fn.\n",
            "WARNING:tensorflow:AutoGraph could not transform <function _combine_distributed_scaffold.<locals>.<lambda> at 0x7fd6b648cd90> and will run it as-is.\n",
            "Cause: could not parse the source code:\n",
            "\n",
            "      lambda scaffold: scaffold.ready_op, args=(grouped_scaffold,))\n",
            "\n",
            "This error may be avoided by creating the lambda in a standalone statement.\n",
            "\n",
            "To silence this warning, decorate the function with @tf.autograph.experimental.do_not_convert\n",
            "WARNING: AutoGraph could not transform <function _combine_distributed_scaffold.<locals>.<lambda> at 0x7fd6b648cd90> and will run it as-is.\n",
            "Cause: could not parse the source code:\n",
            "\n",
            "      lambda scaffold: scaffold.ready_op, args=(grouped_scaffold,))\n",
            "\n",
            "This error may be avoided by creating the lambda in a standalone statement.\n",
            "\n",
            "To silence this warning, decorate the function with @tf.autograph.experimental.do_not_convert\n",
            "INFO:tensorflow:Warm-starting with WarmStartSettings: WarmStartSettings(ckpt_to_initialize_from='/tmp/tmpjktxy4sx/keras/keras_model.ckpt', vars_to_warm_start='.*', var_name_to_vocab_info={}, var_name_to_prev_var_name={})\n",
            "INFO:tensorflow:Warm-starting from: /tmp/tmpjktxy4sx/keras/keras_model.ckpt\n",
            "INFO:tensorflow:Warm-starting variables only in TRAINABLE_VARIABLES.\n",
            "INFO:tensorflow:Warm-started 12 variables.\n",
            "INFO:tensorflow:Create CheckpointSaverHook.\n",
            "WARNING:tensorflow:From /usr/local/lib/python3.6/dist-packages/tensorflow_estimator/python/estimator/util.py:96: DistributedIteratorV1.initialize (from tensorflow.python.distribute.input_lib) is deprecated and will be removed in a future version.\n",
            "Instructions for updating:\n",
            "Use the iterator's `initializer` property instead.\n",
            "INFO:tensorflow:Graph was finalized.\n",
            "INFO:tensorflow:Running local_init_op.\n",
            "INFO:tensorflow:Done running local_init_op.\n",
            "INFO:tensorflow:Calling checkpoint listeners before saving checkpoint 0...\n",
            "INFO:tensorflow:Saving checkpoints for 0 into /tmp/tmpjktxy4sx/model.ckpt.\n",
            "INFO:tensorflow:Calling checkpoint listeners after saving checkpoint 0...\n",
            "INFO:tensorflow:loss = 2.3034863, step = 0\n",
            "INFO:tensorflow:global_step/sec: 62.8672\n",
            "INFO:tensorflow:loss = 2.2854877, step = 100 (1.592 sec)\n",
            "INFO:tensorflow:global_step/sec: 65.8394\n",
            "INFO:tensorflow:loss = 2.2588053, step = 200 (1.524 sec)\n",
            "INFO:tensorflow:global_step/sec: 67.4172\n",
            "INFO:tensorflow:loss = 2.1713645, step = 300 (1.481 sec)\n",
            "INFO:tensorflow:global_step/sec: 66.7604\n",
            "INFO:tensorflow:loss = 1.7352806, step = 400 (1.497 sec)\n",
            "INFO:tensorflow:global_step/sec: 66.1262\n",
            "INFO:tensorflow:loss = 1.2556623, step = 500 (1.513 sec)\n",
            "INFO:tensorflow:global_step/sec: 66.3868\n",
            "INFO:tensorflow:loss = 1.0762595, step = 600 (1.505 sec)\n",
            "INFO:tensorflow:global_step/sec: 65.5296\n",
            "INFO:tensorflow:loss = 1.015219, step = 700 (1.527 sec)\n",
            "INFO:tensorflow:global_step/sec: 67.9779\n",
            "INFO:tensorflow:loss = 0.92795837, step = 800 (1.469 sec)\n",
            "INFO:tensorflow:global_step/sec: 65.7622\n",
            "INFO:tensorflow:loss = 0.9358447, step = 900 (1.521 sec)\n",
            "INFO:tensorflow:global_step/sec: 66.9889\n",
            "INFO:tensorflow:loss = 0.83741957, step = 1000 (1.495 sec)\n",
            "INFO:tensorflow:global_step/sec: 66.618\n",
            "INFO:tensorflow:loss = 0.79228044, step = 1100 (1.501 sec)\n",
            "INFO:tensorflow:global_step/sec: 68.146\n",
            "INFO:tensorflow:loss = 0.7582462, step = 1200 (1.467 sec)\n",
            "INFO:tensorflow:global_step/sec: 67.0133\n",
            "INFO:tensorflow:loss = 0.7873529, step = 1300 (1.490 sec)\n",
            "INFO:tensorflow:global_step/sec: 67.2044\n",
            "INFO:tensorflow:loss = 0.7381371, step = 1400 (1.491 sec)\n",
            "INFO:tensorflow:global_step/sec: 66.0093\n",
            "INFO:tensorflow:loss = 0.6933138, step = 1500 (1.515 sec)\n",
            "INFO:tensorflow:global_step/sec: 67.3603\n",
            "INFO:tensorflow:loss = 0.6988239, step = 1600 (1.482 sec)\n",
            "INFO:tensorflow:global_step/sec: 68.031\n",
            "INFO:tensorflow:loss = 0.724473, step = 1700 (1.473 sec)\n",
            "INFO:tensorflow:global_step/sec: 66.7546\n",
            "INFO:tensorflow:loss = 0.6803942, step = 1800 (1.497 sec)\n",
            "INFO:tensorflow:global_step/sec: 65.8198\n",
            "INFO:tensorflow:loss = 0.64363605, step = 1900 (1.520 sec)\n",
            "INFO:tensorflow:global_step/sec: 67.2684\n",
            "INFO:tensorflow:loss = 0.5410646, step = 2000 (1.486 sec)\n",
            "INFO:tensorflow:global_step/sec: 65.6621\n",
            "INFO:tensorflow:loss = 0.6169657, step = 2100 (1.521 sec)\n",
            "INFO:tensorflow:global_step/sec: 67.0065\n",
            "INFO:tensorflow:loss = 0.6289632, step = 2200 (1.495 sec)\n",
            "INFO:tensorflow:global_step/sec: 67.676\n",
            "INFO:tensorflow:loss = 0.6126218, step = 2300 (1.476 sec)\n",
            "INFO:tensorflow:global_step/sec: 66.9958\n",
            "INFO:tensorflow:loss = 0.697903, step = 2400 (1.493 sec)\n",
            "INFO:tensorflow:global_step/sec: 66.987\n",
            "INFO:tensorflow:loss = 0.6194438, step = 2500 (1.493 sec)\n",
            "INFO:tensorflow:global_step/sec: 67.371\n",
            "INFO:tensorflow:loss = 0.55894, step = 2600 (1.485 sec)\n",
            "INFO:tensorflow:global_step/sec: 68.443\n",
            "INFO:tensorflow:loss = 0.58489317, step = 2700 (1.462 sec)\n",
            "INFO:tensorflow:global_step/sec: 66.8822\n",
            "INFO:tensorflow:loss = 0.6170876, step = 2800 (1.494 sec)\n",
            "INFO:tensorflow:global_step/sec: 66.8178\n",
            "INFO:tensorflow:loss = 0.6525665, step = 2900 (1.497 sec)\n",
            "INFO:tensorflow:global_step/sec: 67.1392\n",
            "INFO:tensorflow:loss = 0.57540125, step = 3000 (1.490 sec)\n",
            "INFO:tensorflow:global_step/sec: 65.7396\n",
            "INFO:tensorflow:loss = 0.5656659, step = 3100 (1.518 sec)\n",
            "INFO:tensorflow:global_step/sec: 66.009\n",
            "INFO:tensorflow:loss = 0.62538147, step = 3200 (1.517 sec)\n",
            "INFO:tensorflow:global_step/sec: 67.1293\n",
            "INFO:tensorflow:loss = 0.55714846, step = 3300 (1.491 sec)\n",
            "INFO:tensorflow:global_step/sec: 66.9615\n",
            "INFO:tensorflow:loss = 0.5231494, step = 3400 (1.493 sec)\n",
            "INFO:tensorflow:global_step/sec: 66.2006\n",
            "INFO:tensorflow:loss = 0.58816415, step = 3500 (1.511 sec)\n",
            "INFO:tensorflow:global_step/sec: 66.5828\n",
            "INFO:tensorflow:loss = 0.4934249, step = 3600 (1.502 sec)\n",
            "INFO:tensorflow:global_step/sec: 67.2841\n",
            "INFO:tensorflow:loss = 0.5471555, step = 3700 (1.483 sec)\n",
            "INFO:tensorflow:global_step/sec: 68.1185\n",
            "INFO:tensorflow:loss = 0.5508535, step = 3800 (1.471 sec)\n",
            "INFO:tensorflow:global_step/sec: 67.0156\n",
            "INFO:tensorflow:loss = 0.5559023, step = 3900 (1.490 sec)\n",
            "INFO:tensorflow:global_step/sec: 66.8532\n",
            "INFO:tensorflow:loss = 0.52578974, step = 4000 (1.499 sec)\n",
            "INFO:tensorflow:global_step/sec: 64.6478\n",
            "INFO:tensorflow:loss = 0.56448996, step = 4100 (1.546 sec)\n",
            "INFO:tensorflow:global_step/sec: 66.5119\n",
            "INFO:tensorflow:loss = 0.5496173, step = 4200 (1.501 sec)\n",
            "INFO:tensorflow:global_step/sec: 66.17\n",
            "INFO:tensorflow:loss = 0.5347583, step = 4300 (1.512 sec)\n",
            "INFO:tensorflow:global_step/sec: 66.6758\n",
            "INFO:tensorflow:loss = 0.5846793, step = 4400 (1.500 sec)\n",
            "INFO:tensorflow:global_step/sec: 65.2817\n",
            "INFO:tensorflow:loss = 0.55275834, step = 4500 (1.532 sec)\n",
            "INFO:tensorflow:global_step/sec: 66.0086\n",
            "INFO:tensorflow:loss = 0.525931, step = 4600 (1.515 sec)\n",
            "INFO:tensorflow:global_step/sec: 64.5907\n",
            "INFO:tensorflow:loss = 0.56138253, step = 4700 (1.552 sec)\n",
            "INFO:tensorflow:global_step/sec: 66.6373\n",
            "INFO:tensorflow:loss = 0.5197289, step = 4800 (1.500 sec)\n",
            "INFO:tensorflow:global_step/sec: 65.494\n",
            "INFO:tensorflow:loss = 0.46854454, step = 4900 (1.526 sec)\n",
            "INFO:tensorflow:global_step/sec: 66.6398\n",
            "INFO:tensorflow:loss = 0.48958436, step = 5000 (1.499 sec)\n",
            "INFO:tensorflow:global_step/sec: 65.7417\n",
            "INFO:tensorflow:loss = 0.45636114, step = 5100 (1.524 sec)\n",
            "INFO:tensorflow:global_step/sec: 67.6653\n",
            "INFO:tensorflow:loss = 0.49165028, step = 5200 (1.476 sec)\n",
            "INFO:tensorflow:global_step/sec: 67.2357\n",
            "INFO:tensorflow:loss = 0.4890092, step = 5300 (1.489 sec)\n",
            "INFO:tensorflow:global_step/sec: 66.3224\n",
            "INFO:tensorflow:loss = 0.5508302, step = 5400 (1.507 sec)\n",
            "INFO:tensorflow:global_step/sec: 65.5728\n",
            "INFO:tensorflow:loss = 0.45581567, step = 5500 (1.526 sec)\n",
            "INFO:tensorflow:global_step/sec: 66.4315\n",
            "INFO:tensorflow:loss = 0.4816255, step = 5600 (1.503 sec)\n",
            "INFO:tensorflow:global_step/sec: 66.9564\n",
            "INFO:tensorflow:loss = 0.4889024, step = 5700 (1.493 sec)\n",
            "INFO:tensorflow:global_step/sec: 67.9348\n",
            "INFO:tensorflow:loss = 0.4708582, step = 5800 (1.475 sec)\n",
            "INFO:tensorflow:Calling checkpoint listeners before saving checkpoint 5860...\n",
            "INFO:tensorflow:Saving checkpoints for 5860 into /tmp/tmpjktxy4sx/model.ckpt.\n",
            "INFO:tensorflow:Calling checkpoint listeners after saving checkpoint 5860...\n",
            "INFO:tensorflow:Loss for final step: 0.42564502.\n",
            "<tensorflow_estimator.python.estimator.estimator.EstimatorV2 object at 0x7fd6b9646fd0>\n"
          ],
          "name": "stdout"
        }
      ]
    },
    {
      "cell_type": "code",
      "metadata": {
        "id": "lMCbWvcX0UZS",
        "colab_type": "code",
        "colab": {
          "base_uri": "https://localhost:8080/",
          "height": 297
        },
        "outputId": "91bf5cd5-b283-4670-b737-24b3aed369cd"
      },
      "source": [
        "estimator.evaluate(lambda: input_func(test_images,test_labels,1,BATCH_SIZE))"
      ],
      "execution_count": 19,
      "outputs": [
        {
          "output_type": "stream",
          "text": [
            "INFO:tensorflow:Calling model_fn.\n",
            "WARNING:tensorflow:From /usr/local/lib/python3.6/dist-packages/tensorflow/python/keras/engine/training_v1.py:2048: Model.state_updates (from tensorflow.python.keras.engine.training) is deprecated and will be removed in a future version.\n",
            "Instructions for updating:\n",
            "This property should not be used in TensorFlow 2.0, as updates are applied automatically.\n",
            "INFO:tensorflow:Done calling model_fn.\n",
            "INFO:tensorflow:Starting evaluation at 2020-08-25T13:35:09Z\n",
            "INFO:tensorflow:Graph was finalized.\n",
            "INFO:tensorflow:Restoring parameters from /tmp/tmpjktxy4sx/model.ckpt-5860\n",
            "INFO:tensorflow:Running local_init_op.\n",
            "INFO:tensorflow:Done running local_init_op.\n",
            "INFO:tensorflow:Inference Time : 0.43467s\n",
            "INFO:tensorflow:Finished evaluation at 2020-08-25-13:35:09\n",
            "INFO:tensorflow:Saving dict for global step 5860: accuracy = 0.8313, global_step = 5860, loss = 0.4618309\n",
            "INFO:tensorflow:Saving 'checkpoint_path' summary for global step 5860: /tmp/tmpjktxy4sx/model.ckpt-5860\n"
          ],
          "name": "stdout"
        },
        {
          "output_type": "execute_result",
          "data": {
            "text/plain": [
              "{'accuracy': 0.8313, 'global_step': 5860, 'loss': 0.4618309}"
            ]
          },
          "metadata": {
            "tags": []
          },
          "execution_count": 19
        }
      ]
    },
    {
      "cell_type": "code",
      "metadata": {
        "id": "gvXL-O9J1D2U",
        "colab_type": "code",
        "colab": {}
      },
      "source": [
        ""
      ],
      "execution_count": null,
      "outputs": []
    }
  ]
}